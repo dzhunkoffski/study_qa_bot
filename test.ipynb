{
 "cells": [
  {
   "cell_type": "code",
   "execution_count": 1,
   "id": "f9e2156e",
   "metadata": {},
   "outputs": [],
   "source": [
    "from parser.pdf import extract_study_plan, post_process_table\n",
    "from pathlib import Path\n",
    "\n",
    "from parser.web import parse_url"
   ]
  },
  {
   "cell_type": "code",
   "execution_count": 2,
   "id": "8d05d0f3",
   "metadata": {},
   "outputs": [],
   "source": [
    "data = parse_url('https://abit.itmo.ru/program/master/ai', 'parsed_data/web')"
   ]
  }
 ],
 "metadata": {
  "kernelspec": {
   "display_name": "qabot_env",
   "language": "python",
   "name": "python3"
  },
  "language_info": {
   "codemirror_mode": {
    "name": "ipython",
    "version": 3
   },
   "file_extension": ".py",
   "mimetype": "text/x-python",
   "name": "python",
   "nbconvert_exporter": "python",
   "pygments_lexer": "ipython3",
   "version": "3.10.18"
  }
 },
 "nbformat": 4,
 "nbformat_minor": 5
}
